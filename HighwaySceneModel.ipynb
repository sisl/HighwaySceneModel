{
 "metadata": {
  "language": "Julia",
  "name": "",
  "signature": "sha256:26673520d20c3428f01b44ab1ce01aa78796b2a992e75d76d48584db0c83b1de"
 },
 "nbformat": 3,
 "nbformat_minor": 0,
 "worksheets": [
  {
   "cells": [
    {
     "cell_type": "markdown",
     "metadata": {},
     "source": [
      "Highway Scene Model\n",
      "===================\n",
      "\n",
      "This IJulia notebook contains model details, parameters, and associated code for traffic propagation models associated with *\"Initial Scene Configurations for Highway Traffic Propagation\"*\n",
      "\n",
      "Content:\n",
      "- Code Overview\n",
      "- Data Preprocessing"
     ]
    },
    {
     "cell_type": "markdown",
     "metadata": {},
     "source": [
      "Code Overview\n",
      "-------------\n",
      "\n",
      "All code in this repository uses the Julia language. The versions for each package are available in REQUIRE.\n",
      "\n",
      "### Code Files\n",
      "- *Trajdata_.jl* - base NGSIM module\n",
      "  - *trajdata_io.jl* - provides input and output functionality\n",
      "  - *trajdata_preprocess.jl* - implementation of symmetric exponential moving average used to clean raw data\n",
      "  - *utils.jl* - miscellaneous utilities\n",
      "  - *piecewise_uniform.jl* - probability distribution implementation used by the marginal model\n",
      "  - *model_validation_metrics.jl* - compute metrics used in model validation\n",
      "- *train_model.jl* - Julia script for model training\n",
      "  - *univariate_scene_generator.jl* - marginal model\n",
      "  - *joint_bn_simple_scene_generator.jl* - base model\n",
      "  - *joint_bn_chain_scene_generator.jl* - chain model\n",
      "  - *heirarchical_scene_generator.jl* - hierarchical model"
     ]
    },
    {
     "cell_type": "markdown",
     "metadata": {},
     "source": [
      "### Example Usage"
     ]
    },
    {
     "cell_type": "code",
     "collapsed": false,
     "input": [
      "using Trajdata_\n",
      "td = Trajdata_.Trajdata(Trajdata_.FILENAME_HW_101_0805)\n",
      "Trajdata_.carsinframe(td, 100)"
     ],
     "language": "python",
     "metadata": {},
     "outputs": [
      {
       "metadata": {},
       "output_type": "pyout",
       "prompt_number": 1,
       "text": [
        "2-element Array{Int64,1}:\n",
        " 5\n",
        " 9"
       ]
      }
     ],
     "prompt_number": 1
    },
    {
     "cell_type": "code",
     "collapsed": false,
     "input": [
      "Trajdata_.get(td, 5, 100)"
     ],
     "language": "python",
     "metadata": {},
     "outputs": [
      {
       "metadata": {},
       "output_type": "pyout",
       "prompt_number": 2,
       "text": [
        "Vehicle(4.902,140.923,-0.0046381856635791625,12.5,2,13.0,6.9)"
       ]
      }
     ],
     "prompt_number": 2
    },
    {
     "cell_type": "code",
     "collapsed": false,
     "input": [
      "get(td, :global_y, Trajdata_.car_df_index(td, 5, 100))"
     ],
     "language": "python",
     "metadata": {},
     "outputs": [
      {
       "metadata": {},
       "output_type": "pyout",
       "prompt_number": 3,
       "text": [
        "1.873304155e6"
       ]
      }
     ],
     "prompt_number": 3
    },
    {
     "cell_type": "markdown",
     "metadata": {},
     "source": [
      "Scenes are extracted using the `pull` functions. For example, the scene below has frameindex 500 from 80a"
     ]
    },
    {
     "cell_type": "code",
     "collapsed": false,
     "input": [
      "reload(\"nbk_functions.jl\")\n",
      "render_scene_500_80a()"
     ],
     "language": "python",
     "metadata": {},
     "outputs": [
      {
       "metadata": {},
       "output_type": "pyout",
       "png": "[encoded data removed]",
       "prompt_number": 6,
       "text": [
        "CairoSurface(Ptr{Void} @0x000000000caad140,800.0,200.0,#undef)"
       ]
      }
     ],
     "prompt_number": 6
    },
    {
     "cell_type": "markdown",
     "metadata": {},
     "source": [
      "The scene above draws each vehicle at its position in the dataset given by the local coordinates provided in the NGSIM data.\n",
      "The vehicle width and height are also provided from the NGSIM data."
     ]
    },
    {
     "cell_type": "markdown",
     "metadata": {},
     "source": [
      "## Scene Generators\n",
      "\n",
      "The abstract `SceneGenerator` was created to represent scene generation models. All concrete implementations are subclasses.\n",
      "Each `SceneGenerator` supports `generate_scene()`, `loglikelihood()`, and `cyclic_coordinate_ascent_parallel()`.\n",
      "\n",
      "Scene generation is the act of sampling a random scene from the distribution represented by the model. The roadway is specified using by the number of lanes, the width per lane (always the average lane width of 11.44 ft), and the scene length of 300 ft. The lane generation process for each model is detailed in the paper and is implemented for each model. In general, these methods construct lanes individually by iteratively adding the next vehicle in front of the previous one in the lane using a headway separation distribution. The initial placement of the first vehicle in each lane, however, deserves explanation.\n",
      "\n",
      "The distace of the first vehicle from the scene boundary is a uniform-random sample from the headway separation of said vehicle and the (missing) vehicle that trails it. This is achieved by sampling from the headway distribution and then sampling uniformally from that headway.\n",
      "\n",
      "The log-likelihood of a scene is computed as is detailed for each model in the paper. This assumes that the scene was generated using the given model. This requires computing conditional probabilities in Bayesian networks. The `Smile.jl` package was used to this end, which is a Julia wrapper around the `SMILE` C++ library developed by the Decision Systems Laboratory at the University of Pittsburgh. Inference in Bayesian networks was conducted using the Probability Propagation\n",
      "in Trees of Clusters \"Lauritzen\" algorithm in Smile, an exact inference algorithm.\n",
      "\n",
      "Model training was conducted using cyclic coordinate ascent and maximized the cross-validated likelihood, as detailed in the paper."
     ]
    },
    {
     "cell_type": "markdown",
     "metadata": {},
     "source": [
      "Data Preprocessing\n",
      "------------------"
     ]
    },
    {
     "cell_type": "markdown",
     "metadata": {},
     "source": [
      "The raw tracks were smoothed using the symmetric exponential moving average presented in *Estimating Acceleration and Lane-Changing Dynamics Based on NGSIM Trajectory Data* by Thiemann et al. The associated code is in `trajdata_preprocess.jl`. This approach smoothes the local position coordinates and the speed for each vehicle.\n",
      "\n",
      "The original datasets are each provided in three chunks of fifteen-minute length. Only full vehicle traces are provided, so it takes multiple frames before the entire road is saturated. Scenes were only extracted for frames in which the entire roadway was saturated.\n",
      "\n",
      "Model features were extracted from the NGSIM dataset. The vehicle centerline offset is defined as the signed lateral offset of a vehicle from the closest lane centerline. Lane centerlines were obtained by fitting 1D splines to the mean lateral position of the vehicles in the lane frame using the `Dierckx.jl` package. The smoothing constant was varied for each spline to produce the best fit. The lane relative-heading was computed directly from the smoothed trajectory using a three-frame forwards derivative. Vehicle separation distance was measured as the distance from the front of the trailing vehicle to the rear end of the leading vehicle."
     ]
    }
   ],
   "metadata": {}
  }
 ]
}